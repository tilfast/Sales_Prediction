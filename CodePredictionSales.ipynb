{
 "cells": [
  {
   "cell_type": "markdown",
   "id": "42e62400-05a4-4dd5-87a5-dff1ce09c213",
   "metadata": {},
   "source": [
    "## Imports"
   ]
  },
  {
   "cell_type": "code",
   "execution_count": 238,
   "id": "3e7da5d8-3c27-43d6-b915-43016c03c462",
   "metadata": {},
   "outputs": [],
   "source": [
    "import pandas as pd\n",
    "import numpy as np\n",
    "import matplotlib.pyplot as plt\n",
    "from datetime import datetime\n",
    "\n",
    "from sklearn.model_selection import train_test_split\n",
    "from sklearn.preprocessing import StandardScaler\n",
    "from sklearn.pipeline import Pipeline\n",
    "\n",
    "\n",
    "from sklearn.metrics import mean_squared_error\n",
    "from sklearn.metrics import mean_squared_log_error\n",
    "from sklearn.metrics import accuracy_score, classification_report, confusion_matrix\n",
    "from sklearn.metrics import roc_curve, roc_auc_score\n",
    "\n",
    "\n",
    "import xgboost as xgb\n",
    "from xgboost import XGBClassifier\n",
    "import warnings\n",
    "warnings.filterwarnings('ignore')"
   ]
  },
  {
   "cell_type": "markdown",
   "id": "6a92b76c-622d-49b8-9f42-e3d85b2e77b7",
   "metadata": {},
   "source": [
    "## Global variables"
   ]
  },
  {
   "cell_type": "code",
   "execution_count": 288,
   "id": "974619a7-617a-4a69-976c-b5644acc6555",
   "metadata": {},
   "outputs": [],
   "source": [
    "#features we will keep for training and predicting \n",
    "#obtained through features of importance when models initially trained\n",
    "col_try = ['sales', \n",
    "           's_lag_1','s_lag_2','s_lag_3', 's_lag_4', 's_lag_5','s_lag_6','s_lag_7', #sales lag features\n",
    "           'p_lag_6',                                                               #promotion lag features\n",
    "           'Min_7_days',                                                            #minimum sales features\n",
    "           'STD_7_days', 'STD_15_days', 'STD_30_days',                              #standard sales deviation features\n",
    "           'MA_3_days', 'MA_7_days', 'MA_15_days', 'MA_30_days',                    #moving average features\n",
    "           'prod_LIQUOR,WINE,BEER', 'prod_HOME CARE',                               #product features\n",
    "           'day_4', 'day_5',                                                        #day in week features\n",
    "           'dnbr_1',  'dnbr_31',                                                    #day in month features\n",
    "           'month_1','month_8','month_12',                                          #month in year features\n",
    "           'store_20'                                                               #store number features\n",
    "          ]\n",
    "#useful for navigating the data during training\n",
    "length_of_daily_sequence = 660\n",
    "\n",
    "#use to select data from a certain period\n",
    "date_to_select = '2016-01-01'"
   ]
  },
  {
   "cell_type": "markdown",
   "id": "ca0a7888-4bb1-46bb-8cae-edb688c8ac81",
   "metadata": {},
   "source": [
    "## Define helper functions for the pipeline"
   ]
  },
  {
   "cell_type": "markdown",
   "id": "71ad896f-c6b6-44f6-97a1-3d81905492da",
   "metadata": {},
   "source": [
    "## 1. Data Processing"
   ]
  },
  {
   "cell_type": "code",
   "execution_count": 156,
   "id": "1e6163e8-0ead-437e-9c7c-82dd8828dc88",
   "metadata": {},
   "outputs": [],
   "source": [
    "#here we should retrieve the data we need either for training or \"production\"\n",
    "def load_data(training = True):\n",
    "\n",
    "        if(training):\n",
    "            print(\"loading data for training\")\n",
    "            dataset = pd.read_csv(\"train/train.csv\")\n",
    "            \n",
    "        else: \n",
    "            #do data extraction\n",
    "            print(\"extracting data from database\")\n",
    "\n",
    "        length_of_daily_sequence, dataset  = do_conversion_and_basic_check(dataset)\n",
    "    \n",
    "        return dataset"
   ]
  },
  {
   "cell_type": "code",
   "execution_count": 157,
   "id": "cbbb0a9f-db1e-4074-8bcd-f287fd970265",
   "metadata": {},
   "outputs": [],
   "source": [
    "def do_conversion_and_basic_check(dataset):\n",
    "        #convert column to workable format\n",
    "        dataset['onpromotion']= dataset['onpromotion'].astype(float)\n",
    "        dataset['date']= pd.to_datetime(dataset['date'])\n",
    "\n",
    "        #print some basics:\n",
    "        number_of_products = len(dataset['family'].unique())\n",
    "        number_of_stores   = len(dataset['store_nbr'].unique())\n",
    "        number_of_days     = len(dataset['date'].unique())\n",
    "        length_of_data     = len(dataset)\n",
    "        length_of_daily_sequence = number_of_products*number_of_stores\n",
    "        number_of_sequence = len(dataset)/length_of_daily_sequence\n",
    "        \n",
    "        print('length of daily sequence:',length_of_daily_sequence)\n",
    "        print('number of sequence:',number_of_sequence)\n",
    "        print('number of products:',number_of_products)\n",
    "        print('number of stores:', number_of_stores)\n",
    "        print('number of days:', number_of_days)\n",
    "        print('data set length:', length_of_data)\n",
    "        print('earliest sales:', dataset['date'].min())\n",
    "        print('latest sales:', dataset['date'].max())\n",
    "\n",
    "        #return number of rows per day, useful to navigate the dataframe\n",
    "        return length_of_daily_sequence, dataset"
   ]
  },
  {
   "cell_type": "code",
   "execution_count": 158,
   "id": "b20b1f6d-17f9-4ef9-b628-349c1acbde29",
   "metadata": {},
   "outputs": [],
   "source": [
    "def build_naive_model(dataset):\n",
    "        #we make as a prediction of sales for today yesterday's sales\n",
    "        dataset['Naive prediction'] = dataset['sales']\n",
    "        return dataset"
   ]
  },
  {
   "cell_type": "code",
   "execution_count": 159,
   "id": "b994db92-3c23-4d91-98ea-8fdf20c7afe6",
   "metadata": {},
   "outputs": [],
   "source": [
    "def build_target(dataset, length_of_daily_sequence):\n",
    "        #each actual sale as 'target' is next day's sale we notice\n",
    "        #we need to skip a full day sales sequence to obtain the next day's sale per shop and product type\n",
    "        dataset['target'] = dataset['sales'].shift(-length_of_daily_sequence)\n",
    "\n",
    "        #remove the first sequence for which we cannot have past data to construct the targets\n",
    "        dataset = dataset.dropna()\n",
    "        dataset = dataset.reset_index(drop = True)\n",
    "\n",
    "        print(\"finished targets\")\n",
    "        return dataset"
   ]
  },
  {
   "cell_type": "code",
   "execution_count": 336,
   "id": "571f9cb6-8bb7-49c4-b061-bc68d6d32993",
   "metadata": {},
   "outputs": [],
   "source": [
    "#for Naive model\n",
    "#y_pred  = dataset[dataset['date']>=from_date]['Naive prediction'].values\n",
    "#y_actual = dataset[dataset['date']>=from_date]['target'].values\n",
    "\n",
    "#def compute_rmsle(y_pred, y_actual, from_date='2016-01-01'):\n",
    "def compute_rmsle(y_pred, y_actual):\n",
    "    # Calculate the Root Mean Squared Logarithmic Error (RMSLE) for each target variable\n",
    "    rmsle = np.sqrt(np.mean(np.square(np.log1p(y_pred) - np.log1p(y_actual)), axis=0) )\n",
    "    print(\"The RMSLE is:\", round(rmsle,5) )\n"
   ]
  },
  {
   "cell_type": "code",
   "execution_count": 161,
   "id": "d011d305-c216-49e7-ba02-56f62aba3b42",
   "metadata": {},
   "outputs": [],
   "source": [
    "def cap_outliers_pos(dataset):\n",
    "    '''we may or may not process the outliers. Depending on the model used, XGB being relatively robust to outliers\n",
    "    in regard of the disproportionate skew of sales to 0, we prefer to compute the average and standard deviation on\n",
    "    strictly positive sales\n",
    "    we ignore the shop specificities here, in the future, we might do this capping at shop level\n",
    "    we prefer to cap rather than remove the data point to maintain consistency of the data organization\n",
    "    '''\n",
    "    for i in dataset['family'].unique():\n",
    "        max = dataset.loc[(dataset['family'] ==i)&(dataset['sales'] !=0),'sales'].mean()+ 3 * dataset.loc[(dataset['family'] ==i)&(dataset['sales'] !=0),'sales'].std()\n",
    "\n",
    "        dataset.loc[dataset['family'] == i, 'sales'] = dataset[dataset['family'] == i]['sales'].clip(upper=max)\n",
    "        dataset.loc[dataset['family'] == i, 'Naive prediction'] = dataset[dataset['family'] == i]['Naive prediction'].clip(upper=max)\n",
    "        dataset.loc[dataset['family'] == i, 'target'] = dataset[dataset['family'] == i]['target'].clip(upper=max)\n",
    "\n",
    "    print(\"finished capping\")\n",
    "    return dataset\n"
   ]
  },
  {
   "cell_type": "code",
   "execution_count": 162,
   "id": "62e10def-9220-4759-b3b0-62350ea28a6e",
   "metadata": {},
   "outputs": [],
   "source": [
    "def draw_ROC(y_test, y_pred_prob):\n",
    "        '''useful curve to assess the binary classification model'''\n",
    "        # Compute ROC curve\n",
    "        fpr,tpr,thresholds = roc_curve(y_test, y_pred_prob)\n",
    "        \n",
    "        # Compute ROC AUC score\n",
    "        roc_auc = roc_auc_score(y_test, y_pred_prob)\n",
    "        \n",
    "        # Plot ROC curve\n",
    "        plt.figure(figsize=(8, 4))\n",
    "        plt.plot(fpr, tpr, color='blue', lw=2, label=f'ROC Curve (AUC = {roc_auc:.2f})')\n",
    "        plt.plot([0, 1], [0, 1], color='gray', linestyle='--')\n",
    "        plt.xlim([0.0, 1.0])\n",
    "        plt.ylim([0.0, 1.05])\n",
    "        plt.xlabel('False Positive Rate')\n",
    "        plt.ylabel('True Positive Rate')\n",
    "        plt.title('Receiver Operating Characteristic (ROC) Curve')\n",
    "        plt.legend(loc='lower right')\n",
    "        plt.grid()\n",
    "        plt.show()"
   ]
  },
  {
   "cell_type": "code",
   "execution_count": 242,
   "id": "82ece4b4-0d0a-4455-bc1b-01cded740113",
   "metadata": {},
   "outputs": [],
   "source": [
    "def training_selector(dataset):\n",
    "    '''indicate for training purpose whether next day sales is zero or strictly positive\n",
    "       if 0 we train the classificator if not zero we train the regressor with the data point\n",
    "    '''\n",
    "    targets = dataset['target']\n",
    "    dataset[\"C0_class\"] = 0\n",
    "    dataset.loc[(dataset['target'] ==0) ,'C0_class'] = 1\n",
    "\n",
    "    return dataset,targets\n"
   ]
  },
  {
   "cell_type": "markdown",
   "id": "fac35fcd-30f4-4d6a-aa36-48092429a6c0",
   "metadata": {},
   "source": [
    "## 2. Feature engineering"
   ]
  },
  {
   "cell_type": "markdown",
   "id": "00a39d1a-3234-4ff2-9338-ad30c4d39952",
   "metadata": {},
   "source": [
    "Once we have identified the features of importance, we can simplify the feature creation and just compute the one that we will use instead\n",
    "of creating the full series"
   ]
  },
  {
   "cell_type": "code",
   "execution_count": 164,
   "id": "9a325e60-f6ff-46ac-8788-8e5c79a4a021",
   "metadata": {},
   "outputs": [],
   "source": [
    "def lag_features(dataset,length_of_daily_sequence):\n",
    "    '''build lag features from sales and promotions for 7 days'''\n",
    "    for i in range(1,8):\n",
    "        sales_lag_d = 's_lag_'+ str(i)\n",
    "        prom_lag_d = 'p_lag_'+ str(i)\n",
    "        dataset[sales_lag_d] = dataset['sales'].shift(i*length_of_daily_sequence)\n",
    "        dataset[prom_lag_d] = dataset['onpromotion'].shift(i*length_of_daily_sequence)\n",
    "\n",
    "    return dataset\n"
   ]
  },
  {
   "cell_type": "code",
   "execution_count": 165,
   "id": "24ad7760-11b6-4cdc-8876-3944390f77e8",
   "metadata": {},
   "outputs": [],
   "source": [
    "def moving_average_features(dataset):\n",
    "    '''compute the moving average per products per store\n",
    "       for 3, 7, 15 and 30 days'''\n",
    "    for rolling_window_size in [3,7,15,30]:\n",
    "        col_name = \"MA_\"+str(rolling_window_size) + \"_days\"\n",
    "        for i in dataset['store_nbr'].unique():\n",
    "            for j in dataset['family'].unique():\n",
    "                dataset.loc[(dataset['family'] ==j) & (dataset['store_nbr'] ==i),col_name] = \\\n",
    "                dataset.loc[(dataset['family'] ==j) & (dataset['store_nbr'] ==i),'sales'].rolling(window=rolling_window_size).mean()\n",
    "\n",
    "    return dataset"
   ]
  },
  {
   "cell_type": "code",
   "execution_count": 166,
   "id": "01d706d7-0b54-4727-8e29-b80b62be1c6b",
   "metadata": {},
   "outputs": [],
   "source": [
    "def standard_deviation_features(dataset):\n",
    "    '''compute the standard deviation per products per store\n",
    "    for 7, 15 and 30 days'''\n",
    "    for rolling_window_size in [7,15,30]:\n",
    "        col_name = \"STD_\"+str(rolling_window_size) + \"_days\"\n",
    "        for i in dataset['store_nbr'].unique():\n",
    "            for j in dataset['family'].unique():\n",
    "                dataset.loc[(dataset['family'] ==j) & (dataset['store_nbr'] ==i),col_name] = \\\n",
    "                dataset.loc[(dataset['family'] ==j) & (dataset['store_nbr'] ==i),'sales'].rolling(window=rolling_window_size).std()\n",
    "\n",
    "    return dataset"
   ]
  },
  {
   "cell_type": "code",
   "execution_count": 167,
   "id": "237e1ed6-6a0c-48c0-b220-23303ee0f13e",
   "metadata": {},
   "outputs": [],
   "source": [
    "def min_features(dataset):\n",
    "    '''compute the minimum sales per products per store\n",
    "       for 3, 7, 15 and 30 days'''\n",
    "    for rolling_window_size in [3,7,15,30]:\n",
    "        col_name = \"Min_\"+str(rolling_window_size) + \"_days\"\n",
    "        for i in dataset['store_nbr'].unique():\n",
    "            for j in dataset['family'].unique():\n",
    "                dataset.loc[(dataset['family'] ==j) & (dataset['store_nbr'] ==i),col_name] = \\\n",
    "                dataset.loc[(dataset['family'] ==j) & (dataset['store_nbr'] ==i),'sales'].rolling(window=rolling_window_size).min()\n",
    "\n",
    "    return dataset"
   ]
  },
  {
   "cell_type": "code",
   "execution_count": 168,
   "id": "869438dd-1145-4fc3-9fae-1bffd9488239",
   "metadata": {},
   "outputs": [],
   "source": [
    "def max_features(dataset):\n",
    "    '''compute the maximum sales per products per store\n",
    "       for 3, 7, 15 and 30 days'''\n",
    "    for rolling_window_size in [3,7,15,30]:\n",
    "        col_name = \"Max_\"+str(rolling_window_size) + \"_days\"\n",
    "        for i in dataset['store_nbr'].unique():\n",
    "            for j in dataset['family'].unique():\n",
    "                dataset.loc[(dataset['family'] ==j) & (dataset['store_nbr'] ==i),col_name] = \\\n",
    "                dataset.loc[(dataset['family'] ==j) & (dataset['store_nbr'] ==i),'sales'].rolling(window=rolling_window_size).max()\n",
    "\n",
    "    return dataset"
   ]
  },
  {
   "cell_type": "code",
   "execution_count": 169,
   "id": "7952abf5-5970-483c-97e0-545c190d9f6e",
   "metadata": {},
   "outputs": [],
   "source": [
    "def temporal_features(date_object):\n",
    "\n",
    "    day_in_week =  date_object.weekday()\n",
    "    #year       =  date_object.year\n",
    "\n",
    "    # Get the day number in month\n",
    "    day_number = date_object.timetuple().tm_mday\n",
    "\n",
    "    # Get the month\n",
    "    month = date_object.month\n",
    "    \n",
    "    #return year,week_number,day_in_week\n",
    "    return day_in_week, day_number , month"
   ]
  },
  {
   "cell_type": "code",
   "execution_count": 170,
   "id": "99af8b38-1ce1-4ebc-a8db-ef46b32d707c",
   "metadata": {},
   "outputs": [],
   "source": [
    "def one_hot_encode_categorical_features(dataset):\n",
    "    dataset = pd.get_dummies(dataset, columns=['store_nbr', 'family','day_in_week','day_in_month', 'month'], prefix=['store', 'prod', 'day', 'dnbr','month'], dtype = int)\n",
    "    return dataset"
   ]
  },
  {
   "cell_type": "code",
   "execution_count": 182,
   "id": "77a81580-04c8-4aa1-aae4-add2c9e4d147",
   "metadata": {},
   "outputs": [],
   "source": [
    "def build_features(dataset,length_of_daily_sequence):\n",
    "    #we may want to customize the feature builing\n",
    "    print(\"Starting feature engineering\")\n",
    "    \n",
    "    dataset = lag_features(dataset,length_of_daily_sequence)\n",
    "    print(\"finished lags\")\n",
    "\n",
    "    dataset = moving_average_features(dataset)        \n",
    "    print(\"finished moving averages\")\n",
    "\n",
    "    #remove the initial rows for which we don't have moving averages\n",
    "    dataset = dataset.dropna()\n",
    "    dataset = dataset.reset_index(drop = True)\n",
    "\n",
    "    dataset = standard_deviation_features(dataset)\n",
    "    print(\"finished standard deviations\")\n",
    "\n",
    "    dataset = min_features(dataset)\n",
    "    print(\"finished mins\")\n",
    "\n",
    "    dataset = max_features(dataset)\n",
    "    print(\"finished maxs\") \n",
    "\n",
    "    dataset[['day_in_week','day_in_month', 'month']] = dataset['date'].apply(lambda x: pd.Series(temporal_features(x)))\n",
    "    print(\"finished temporal features\")\n",
    "\n",
    "    dataset = one_hot_encode_categorical_features(dataset)\n",
    "    print(\"finished encoding categorical features\")\n",
    "\n",
    "    #remove the initial rows for which we don't have moving averages\n",
    "    dataset = dataset.dropna()\n",
    "    dataset = dataset.reset_index(drop = True)\n",
    "\n",
    "    return dataset\n"
   ]
  },
  {
   "cell_type": "code",
   "execution_count": 313,
   "id": "9dc03011-6e48-4ff8-92eb-8d70d5e0392c",
   "metadata": {},
   "outputs": [],
   "source": [
    "def print_feature_importance(model_x,max_num_features=20):\n",
    "    #feature_names = col_try\n",
    "    xgb.plot_importance(model_x, max_num_features=max_num_features, importance_type='weight')\n",
    "    plt.show()"
   ]
  },
  {
   "cell_type": "markdown",
   "id": "9d2997cd-3a79-4ac0-964e-94197806c7ed",
   "metadata": {},
   "source": [
    "## 3.Model training"
   ]
  },
  {
   "cell_type": "markdown",
   "id": "630e7b1b-09ae-465f-ba32-515fab415bcf",
   "metadata": {},
   "source": [
    "#### This function will help us evaluate the classification"
   ]
  },
  {
   "cell_type": "code",
   "execution_count": 224,
   "id": "df815450-45f9-4a14-ab4d-6671419e0bfb",
   "metadata": {},
   "outputs": [],
   "source": [
    "def show_classification_results(y_pred,y_test):\n",
    "    \n",
    "        y_pred_df = pd.DataFrame({'y_true': y_test, 'y_pred': y_pred})\n",
    "        \n",
    "        # Calculate accuracy\n",
    "        accuracy = accuracy_score(y_test, y_pred)\n",
    "        print(f\"Accuracy: {accuracy:.2f}\")\n",
    "        print(\"\\n\")\n",
    "\n",
    "        # Calculate the confusion matrix\n",
    "        conf_matrix = confusion_matrix(y_test, y_pred)\n",
    "        \n",
    "        # Calculate the normalized confusion matrix\n",
    "        normalized_conf_matrix = conf_matrix / conf_matrix.sum(axis=1)[:, np.newaxis]\n",
    "\n",
    "        print(\"Normalized Confusion Matrix:\")\n",
    "        print(normalized_conf_matrix)\n",
    "      \n",
    "        # Generate a classification report\n",
    "        class_report = classification_report(y_test, y_pred)\n",
    "        print(\"Classification Report:\")\n",
    "        print(class_report)\n",
    "        print(\"\\n\")"
   ]
  },
  {
   "cell_type": "code",
   "execution_count": 303,
   "id": "9d17d942-0cf1-4c81-9ef8-9591c9acfe8b",
   "metadata": {},
   "outputs": [],
   "source": [
    "def initial_split(dataset, random_state=42, shuffle = True):\n",
    "    ''' the sample will be returned as follow:\n",
    "    Classification to determine whether there will be zero sales:\n",
    "      X_train_full, y_train_zero_class\n",
    "      X_test_full,  y_test_zero_ class\n",
    "      \n",
    "    Regression to determine the next days sales (non zero):\n",
    "      X_train_not_zero, y_train_sales\n",
    "      X_test_not_zero, y_test_sales\n",
    "\n",
    "    The combined model will be tested on the pair X_test_full, y_test_sales\n",
    "    '''\n",
    "    \n",
    "    #mark rows that will have no next day sales as C0_class:\n",
    "    dataset,targets = training_selector(dataset)\n",
    "    \n",
    "    #we will use the C0_class indicator to separate the training sample\n",
    "    col_extended = col_try.copy()\n",
    "    col_extended.append( \"C0_class\")\n",
    "    \n",
    "    #make the split with the target C0_class BECAREFUL to remove it in the end return!!!\n",
    "    X_train_extended, X_test_extented, y_train, y_test =  train_test_split(dataset[col_extended], targets, test_size=0.3, random_state=random_state,shuffle=shuffle)\n",
    "\n",
    "    \n",
    "    '''For the classification training'''\n",
    "    #assign the targets for the zero class training\n",
    "    y_train_zero_class  = X_train_extended[\"C0_class\"]\n",
    "    y_test_zero_class   = X_test_extented[\"C0_class\"]\n",
    "\n",
    "    '''For the regression training'''\n",
    "    #mark the positive samples that will be assigned to the regression model \n",
    "    #store first the sales targets\n",
    "    X_train_extended['y_sales'] = y_train\n",
    "    X_test_extented['y_sales']  = y_test\n",
    "\n",
    "    #select the positive sales sample for regression training\n",
    "    X_train_not_zero= X_train_extended[X_train_extended[\"C0_class\"]==0]\n",
    "    X_test_not_zero=  X_test_extented[X_test_extented[\"C0_class\"]==0]\n",
    "\n",
    "    #re-assign now the sales targets\n",
    "    y_train_not_zero= X_train_not_zero['y_sales']\n",
    "    y_test_not_zero= X_test_not_zero['y_sales']\n",
    "\n",
    "    '''Clean up'''\n",
    "    #make sure we exclude any targets from the data\n",
    "    X_train = X_train_extended[col_try]\n",
    "    X_test  = X_test_extented[col_try]\n",
    "\n",
    "    X_train_not_zero= X_train_not_zero[col_try]\n",
    "    X_test_not_zero=  X_test_not_zero[col_try]\n",
    "    \n",
    "    return X_train, y_train, y_train_zero_class, X_test, y_test, y_test_zero_class, X_train_not_zero,y_train_not_zero,X_test_not_zero,y_test_not_zero"
   ]
  },
  {
   "cell_type": "markdown",
   "id": "c31b1f33-c340-4fc0-a791-c916e4301be3",
   "metadata": {},
   "source": [
    "### We do the training of the models\n",
    "    - classification of products between next day sales and zero sales\n",
    "    - Regression of sales for products identified with a next day sales"
   ]
  },
  {
   "cell_type": "code",
   "execution_count": 309,
   "id": "6fdd7ecb-20a7-46e6-983f-912b051b06d7",
   "metadata": {},
   "outputs": [],
   "source": [
    "def train_classification_model(X_c_train, X_c_test,y_c_train, y_c_test,col_try):\n",
    "\n",
    "        # Convert the data to DMatrix format (optimized for XGBoost)\n",
    "        dtrain = xgb.DMatrix(X_c_train, label=y_c_train, feature_names=col_try)\n",
    "        dtest = xgb.DMatrix(X_c_test, label=y_c_test, feature_names=col_try)\n",
    "        \n",
    "        # Define XGBoost parameters\n",
    "        params = {\n",
    "        'objective': 'binary:logistic', #probali\n",
    "        'max_depth': 3,                  # Maximum depth of each tree\n",
    "        'learning_rate': 0.1,            # Learning rate\n",
    "        'n_estimators': 400,             # Number of boosting rounds (trees)\n",
    "        'verbosity':0,\n",
    "        }\n",
    "\n",
    "        # Train the XGBoost model with early stopping based on the validation data\n",
    "        watchlist = [(dtest, 'validation')]\n",
    "        model_classification = xgb.train(params, dtrain, num_boost_round=params['n_estimators'], evals=watchlist, early_stopping_rounds=10)\n",
    "\n",
    "        y_pred_prob = model_classification.predict(dtest)  # Predicted probabilities\n",
    "\n",
    "        y_pred = (y_pred_prob > 0.5).astype(int)  # Convert probabilities to binary predictions\n",
    "    \n",
    "        # show results\n",
    "        y_test = dtest.get_label()\n",
    "        show_classification_results(y_pred,y_test)\n",
    "        draw_ROC(y_test, y_pred_prob)\n",
    "\n",
    "        return model_classification"
   ]
  },
  {
   "cell_type": "code",
   "execution_count": 312,
   "id": "e0642104-0d8d-42fd-96bd-54926aec5b8d",
   "metadata": {},
   "outputs": [],
   "source": [
    "def train_regression_model(X_r_train, X_r_test,y_r_train, y_r_test,col_try):\n",
    "        \n",
    "        # Convert the data to DMatrix format (optimized for XGBoost)\n",
    "        dtrain = xgb.DMatrix(X_r_train, label=y_r_train, feature_names=col_try)\n",
    "        dtest = xgb.DMatrix(X_r_test, label=y_r_test, feature_names=col_try)\n",
    "        \n",
    "        # Define XGBoost parameters\n",
    "        params = {\n",
    "            'objective': 'reg:squaredlogerror',\n",
    "            'max_depth': 3,                  # Maximum depth of each tree\n",
    "            'learning_rate': 0.1,            # Learning rate\n",
    "            'n_estimators': 200,             # Number of boosting rounds (trees)\n",
    "            'verbosity':0,\n",
    "        }\n",
    "        # Train the XGBoost model with early stopping based on the validation data\n",
    "        watchlist = [(dtest, 'validation')]\n",
    "        model_regression = xgb.train(params, dtrain, num_boost_round=params['n_estimators'], evals=watchlist, early_stopping_rounds=10)\n",
    "        \n",
    "        # Make predictions on the test set\n",
    "        y_pred = model_regression.predict(dtest)\n",
    "\n",
    "        # show results\n",
    "        # Calculate the Root Mean Squared Logarithmic Error (RMSLE) \n",
    "        compute_rmsle(y_pred, y_r_test)\n",
    "\n",
    "        return model_regression"
   ]
  },
  {
   "cell_type": "code",
   "execution_count": 252,
   "id": "83cc215a-a35c-4dc1-a1da-770f0bc251fd",
   "metadata": {},
   "outputs": [],
   "source": [
    "def train_full_model(dataset):\n",
    "    \n",
    "    print(\"training the full model\")\n",
    "\n",
    "    #build training samples for the classification and the regression\n",
    "    #be careful to clearly separate the training data for each model\n",
    "    X_train, y_train, y_train_zero_class, X_test, y_test, y_test_zero_class,X_train_not_zero,y_train_not_zero,X_test_not_zero,y_test_not_zero = initial_split(dataset)\n",
    "\n",
    "    model_classification = train_classification_model(X_train, X_test,y_train_zero_class, y_test_zero_class,col_try)\n",
    "    model_regression     = train_regression_model(X_train_not_zero, X_test_not_zero,y_train_not_zero, y_test_not_zero,col_try)\n",
    "\n",
    "    print(\"finished training the full model\")\n",
    "\n",
    "    return dataset, model_classification, model_regression, X_test,y_test\n",
    "    "
   ]
  },
  {
   "cell_type": "code",
   "execution_count": 319,
   "id": "20a17fa7-ee45-4766-b1a9-00f3566ad2c6",
   "metadata": {},
   "outputs": [],
   "source": [
    "def select_data_for_date(X_test,y_test, dataset):\n",
    "\n",
    "        #select only the data for 2016-2017\n",
    "        ind_list = dataset[dataset['date']<date_to_select].index\n",
    "    \n",
    "        X_test = X_test[X_test.index.isin(ind_list)]\n",
    "        y_test = dataset['target'].iloc[X_test.index]\n",
    "\n",
    "        return X_test, y_test"
   ]
  },
  {
   "cell_type": "code",
   "execution_count": 333,
   "id": "1b0c8627-087a-4ee0-b1fc-e9ce125e1c7f",
   "metadata": {},
   "outputs": [],
   "source": [
    "def evaluate_full_model(dataset, model_classification, model_regression, X_test,y_test,col_try):\n",
    "        ''' \n",
    "        -select the data from the starting date we want to evaluate the model for\n",
    "        -predict the product class (sales/no sale)\n",
    "        -if a sale is predicted predict its level\n",
    "        -evaluate the model\n",
    "        '''\n",
    "        #restrict the test sample from the given date \n",
    "        X_test,y_test = select_data_for_date(X_test,y_test,dataset)\n",
    "        \n",
    "        dtest = xgb.DMatrix(X_test[col_try], label=y_test, feature_names=col_try)\n",
    "    \n",
    "        '''predict sales/no sale'''\n",
    "        y_pred_prob_c = model_classification.predict(dtest)   \n",
    "        y_pred_c = (y_pred_prob_c > 0.5).astype(int)\n",
    "\n",
    "        '''do the regression on predicted sales classes'''\n",
    "        #select the data for the regression (the rest will be assigned zero sales)\n",
    "        X_test['class_pred'] = 1-y_pred_c  \n",
    "        X_test2 = X_test[X_test['class_pred']==1][col_try]\n",
    "        \n",
    "        #select only the data we are ok to make a regression on\n",
    "        y_test2 = dataset['target'].iloc[X_test2.index]\n",
    "        \n",
    "        dtest2 = xgb.DMatrix(X_test2[col_try], label= y_test2,  feature_names=col_try)\n",
    "        \n",
    "        y_pred_sales = model_regression.predict(dtest2)\n",
    "\n",
    "        '''Allocate the results and compute the RMSLE''' \n",
    "        X_test.loc[X_test['class_pred'] == 0, 'sales_predicted'] = 0.0\n",
    "        X_test.loc[X_test['class_pred'] == 1, 'sales_predicted'] = y_pred_sales\n",
    "        X_test['sales_actual'] = y_test\n",
    "\n",
    "        X_test = X_test.dropna()\n",
    "    \n",
    "        rmsle = compute_rmsle(X_test['sales_predicted'], X_test['sales_actual'])\n",
    "\n"
   ]
  },
  {
   "cell_type": "markdown",
   "id": "a0607231-651f-4edb-831f-d1698f599132",
   "metadata": {},
   "source": [
    "## Execution"
   ]
  },
  {
   "cell_type": "code",
   "execution_count": 339,
   "id": "9b763861-4749-41d7-abad-5b9f10a1ece3",
   "metadata": {},
   "outputs": [
    {
     "name": "stdout",
     "output_type": "stream",
     "text": [
      "loading data for training\n",
      "length of daily sequence: 660\n",
      "number of sequence: 1684.0\n",
      "number of products: 33\n",
      "number of stores: 20\n",
      "number of days: 1684\n",
      "data set length: 1111440\n",
      "earliest sales: 2013-01-01 00:00:00\n",
      "latest sales: 2017-08-15 00:00:00\n",
      "CPU times: total: 766 ms\n",
      "Wall time: 744 ms\n"
     ]
    }
   ],
   "source": [
    "%time dataset = load_data()"
   ]
  },
  {
   "cell_type": "code",
   "execution_count": 340,
   "id": "0836aa1a-eec6-4cc3-a950-358f8ed131e2",
   "metadata": {},
   "outputs": [
    {
     "name": "stdout",
     "output_type": "stream",
     "text": [
      "finished targets\n",
      "CPU times: total: 141 ms\n",
      "Wall time: 152 ms\n"
     ]
    }
   ],
   "source": [
    "%time dataset = build_target(dataset, length_of_daily_sequence)"
   ]
  },
  {
   "cell_type": "markdown",
   "id": "c3768efb-7edb-48ca-8c82-dd9a35ffde77",
   "metadata": {},
   "source": [
    "### We will use as our base model the prediction of next day sales at the same level as today's sales"
   ]
  },
  {
   "cell_type": "code",
   "execution_count": 341,
   "id": "08da36ee-9672-46d8-8d46-1a4ea8024c04",
   "metadata": {},
   "outputs": [
    {
     "name": "stdout",
     "output_type": "stream",
     "text": [
      "CPU times: total: 15.6 ms\n",
      "Wall time: 3 ms\n"
     ]
    }
   ],
   "source": [
    "%time dataset = build_naive_model(dataset)"
   ]
  },
  {
   "cell_type": "code",
   "execution_count": 342,
   "id": "d2dc74b4-8c38-4103-a813-d4ade448d59d",
   "metadata": {},
   "outputs": [
    {
     "name": "stdout",
     "output_type": "stream",
     "text": [
      "The RMSLE is: 0.70089\n",
      "CPU times: total: 62.5 ms\n",
      "Wall time: 49.3 ms\n"
     ]
    }
   ],
   "source": [
    "%time  compute_rmsle(dataset['Naive prediction'], dataset['target'])"
   ]
  },
  {
   "cell_type": "markdown",
   "id": "6394cb64-18b0-43fb-aacf-a446f7f62671",
   "metadata": {},
   "source": [
    "### Build a model to improve this prediction"
   ]
  },
  {
   "cell_type": "code",
   "execution_count": 343,
   "id": "48de213c-6cf6-4b2a-b699-2a85cfb43ca0",
   "metadata": {},
   "outputs": [
    {
     "name": "stdout",
     "output_type": "stream",
     "text": [
      "finished capping\n",
      "CPU times: total: 18.8 s\n",
      "Wall time: 18.8 s\n"
     ]
    }
   ],
   "source": [
    "%time  dataset = cap_outliers_pos(dataset)"
   ]
  },
  {
   "cell_type": "code",
   "execution_count": 344,
   "id": "ae33eb6f-add1-47d6-8560-996d9e0565b3",
   "metadata": {},
   "outputs": [
    {
     "name": "stdout",
     "output_type": "stream",
     "text": [
      "Starting feature engineering\n",
      "finished lags\n",
      "finished moving averages\n",
      "finished standard deviations\n",
      "finished mins\n",
      "finished maxs\n",
      "finished temporal features\n",
      "finished encoding categorical features\n",
      "CPU times: total: 29min 32s\n",
      "Wall time: 29min 51s\n"
     ]
    }
   ],
   "source": [
    "%time dataset = build_features(dataset,length_of_daily_sequence)"
   ]
  },
  {
   "cell_type": "code",
   "execution_count": 351,
   "id": "a9d14724-9465-40a7-ad26-cef5b827a656",
   "metadata": {},
   "outputs": [
    {
     "name": "stdout",
     "output_type": "stream",
     "text": [
      "CPU times: total: 49.5 s\n",
      "Wall time: 49.6 s\n"
     ]
    }
   ],
   "source": [
    "%time dataset.to_csv(\"featureEngineering.csv\", index = False)"
   ]
  },
  {
   "cell_type": "code",
   "execution_count": 345,
   "id": "f04a07bf-e1ca-4c2b-b257-a60d6379f9f5",
   "metadata": {},
   "outputs": [],
   "source": [
    "#dataset = pd.read_csv(\"featureEngineering.csv\")"
   ]
  },
  {
   "cell_type": "code",
   "execution_count": 346,
   "id": "5d299da2-618b-4f00-b338-f2229ac3f869",
   "metadata": {},
   "outputs": [
    {
     "name": "stdout",
     "output_type": "stream",
     "text": [
      "training the full model\n",
      "[0]\tvalidation-logloss:0.51429\n",
      "[1]\tvalidation-logloss:0.45796\n",
      "[2]\tvalidation-logloss:0.41281\n",
      "[3]\tvalidation-logloss:0.37505\n",
      "[4]\tvalidation-logloss:0.34363\n",
      "[5]\tvalidation-logloss:0.31696\n",
      "[6]\tvalidation-logloss:0.29347\n",
      "[7]\tvalidation-logloss:0.27362\n",
      "[8]\tvalidation-logloss:0.25631\n",
      "[9]\tvalidation-logloss:0.24116\n",
      "[10]\tvalidation-logloss:0.22750\n",
      "[11]\tvalidation-logloss:0.21576\n",
      "[12]\tvalidation-logloss:0.20543\n",
      "[13]\tvalidation-logloss:0.19626\n",
      "[14]\tvalidation-logloss:0.18771\n",
      "[15]\tvalidation-logloss:0.18049\n",
      "[16]\tvalidation-logloss:0.17371\n",
      "[17]\tvalidation-logloss:0.16779\n",
      "[18]\tvalidation-logloss:0.16246\n",
      "[19]\tvalidation-logloss:0.15784\n",
      "[20]\tvalidation-logloss:0.15356\n",
      "[21]\tvalidation-logloss:0.14989\n",
      "[22]\tvalidation-logloss:0.14651\n",
      "[23]\tvalidation-logloss:0.14344\n",
      "[24]\tvalidation-logloss:0.14069\n",
      "[25]\tvalidation-logloss:0.13821\n",
      "[26]\tvalidation-logloss:0.13603\n",
      "[27]\tvalidation-logloss:0.13413\n",
      "[28]\tvalidation-logloss:0.13169\n",
      "[29]\tvalidation-logloss:0.12973\n",
      "[30]\tvalidation-logloss:0.12809\n",
      "[31]\tvalidation-logloss:0.12665\n",
      "[32]\tvalidation-logloss:0.12538\n",
      "[33]\tvalidation-logloss:0.12426\n",
      "[34]\tvalidation-logloss:0.12327\n",
      "[35]\tvalidation-logloss:0.12236\n",
      "[36]\tvalidation-logloss:0.12156\n",
      "[37]\tvalidation-logloss:0.12085\n",
      "[38]\tvalidation-logloss:0.12022\n",
      "[39]\tvalidation-logloss:0.11966\n",
      "[40]\tvalidation-logloss:0.11916\n",
      "[41]\tvalidation-logloss:0.11869\n",
      "[42]\tvalidation-logloss:0.11828\n",
      "[43]\tvalidation-logloss:0.11792\n",
      "[44]\tvalidation-logloss:0.11757\n",
      "[45]\tvalidation-logloss:0.11728\n",
      "[46]\tvalidation-logloss:0.11678\n",
      "[47]\tvalidation-logloss:0.11653\n",
      "[48]\tvalidation-logloss:0.11609\n",
      "[49]\tvalidation-logloss:0.11570\n",
      "[50]\tvalidation-logloss:0.11543\n",
      "[51]\tvalidation-logloss:0.11525\n",
      "[52]\tvalidation-logloss:0.11509\n",
      "[53]\tvalidation-logloss:0.11494\n",
      "[54]\tvalidation-logloss:0.11462\n",
      "[55]\tvalidation-logloss:0.11449\n",
      "[56]\tvalidation-logloss:0.11422\n",
      "[57]\tvalidation-logloss:0.11396\n",
      "[58]\tvalidation-logloss:0.11386\n",
      "[59]\tvalidation-logloss:0.11376\n",
      "[60]\tvalidation-logloss:0.11366\n",
      "[61]\tvalidation-logloss:0.11343\n",
      "[62]\tvalidation-logloss:0.11333\n",
      "[63]\tvalidation-logloss:0.11315\n",
      "[64]\tvalidation-logloss:0.11308\n",
      "[65]\tvalidation-logloss:0.11292\n",
      "[66]\tvalidation-logloss:0.11285\n",
      "[67]\tvalidation-logloss:0.11279\n",
      "[68]\tvalidation-logloss:0.11269\n",
      "[69]\tvalidation-logloss:0.11264\n",
      "[70]\tvalidation-logloss:0.11253\n",
      "[71]\tvalidation-logloss:0.11243\n",
      "[72]\tvalidation-logloss:0.11234\n",
      "[73]\tvalidation-logloss:0.11228\n",
      "[74]\tvalidation-logloss:0.11217\n",
      "[75]\tvalidation-logloss:0.11208\n",
      "[76]\tvalidation-logloss:0.11202\n",
      "[77]\tvalidation-logloss:0.11192\n",
      "[78]\tvalidation-logloss:0.11180\n",
      "[79]\tvalidation-logloss:0.11170\n",
      "[80]\tvalidation-logloss:0.11163\n",
      "[81]\tvalidation-logloss:0.11149\n",
      "[82]\tvalidation-logloss:0.11138\n",
      "[83]\tvalidation-logloss:0.11128\n",
      "[84]\tvalidation-logloss:0.11125\n",
      "[85]\tvalidation-logloss:0.11115\n",
      "[86]\tvalidation-logloss:0.11113\n",
      "[87]\tvalidation-logloss:0.11106\n",
      "[88]\tvalidation-logloss:0.11104\n",
      "[89]\tvalidation-logloss:0.11102\n",
      "[90]\tvalidation-logloss:0.11092\n",
      "[91]\tvalidation-logloss:0.11084\n",
      "[92]\tvalidation-logloss:0.11076\n",
      "[93]\tvalidation-logloss:0.11058\n",
      "[94]\tvalidation-logloss:0.11056\n",
      "[95]\tvalidation-logloss:0.11054\n",
      "[96]\tvalidation-logloss:0.11031\n",
      "[97]\tvalidation-logloss:0.11024\n",
      "[98]\tvalidation-logloss:0.11021\n",
      "[99]\tvalidation-logloss:0.11015\n",
      "[100]\tvalidation-logloss:0.11009\n",
      "[101]\tvalidation-logloss:0.11005\n",
      "[102]\tvalidation-logloss:0.10999\n",
      "[103]\tvalidation-logloss:0.10996\n",
      "[104]\tvalidation-logloss:0.10991\n",
      "[105]\tvalidation-logloss:0.10990\n",
      "[106]\tvalidation-logloss:0.10981\n",
      "[107]\tvalidation-logloss:0.10980\n",
      "[108]\tvalidation-logloss:0.10970\n",
      "[109]\tvalidation-logloss:0.10966\n",
      "[110]\tvalidation-logloss:0.10961\n",
      "[111]\tvalidation-logloss:0.10961\n",
      "[112]\tvalidation-logloss:0.10953\n",
      "[113]\tvalidation-logloss:0.10951\n",
      "[114]\tvalidation-logloss:0.10944\n",
      "[115]\tvalidation-logloss:0.10937\n",
      "[116]\tvalidation-logloss:0.10936\n",
      "[117]\tvalidation-logloss:0.10933\n",
      "[118]\tvalidation-logloss:0.10928\n",
      "[119]\tvalidation-logloss:0.10924\n",
      "[120]\tvalidation-logloss:0.10924\n",
      "[121]\tvalidation-logloss:0.10920\n",
      "[122]\tvalidation-logloss:0.10911\n",
      "[123]\tvalidation-logloss:0.10907\n",
      "[124]\tvalidation-logloss:0.10906\n",
      "[125]\tvalidation-logloss:0.10903\n",
      "[126]\tvalidation-logloss:0.10899\n",
      "[127]\tvalidation-logloss:0.10897\n",
      "[128]\tvalidation-logloss:0.10895\n",
      "[129]\tvalidation-logloss:0.10890\n",
      "[130]\tvalidation-logloss:0.10887\n",
      "[131]\tvalidation-logloss:0.10885\n",
      "[132]\tvalidation-logloss:0.10883\n",
      "[133]\tvalidation-logloss:0.10879\n",
      "[134]\tvalidation-logloss:0.10876\n",
      "[135]\tvalidation-logloss:0.10872\n",
      "[136]\tvalidation-logloss:0.10868\n",
      "[137]\tvalidation-logloss:0.10866\n",
      "[138]\tvalidation-logloss:0.10862\n",
      "[139]\tvalidation-logloss:0.10859\n",
      "[140]\tvalidation-logloss:0.10859\n",
      "[141]\tvalidation-logloss:0.10856\n",
      "[142]\tvalidation-logloss:0.10855\n",
      "[143]\tvalidation-logloss:0.10852\n",
      "[144]\tvalidation-logloss:0.10849\n",
      "[145]\tvalidation-logloss:0.10848\n",
      "[146]\tvalidation-logloss:0.10846\n",
      "[147]\tvalidation-logloss:0.10843\n",
      "[148]\tvalidation-logloss:0.10840\n",
      "[149]\tvalidation-logloss:0.10838\n",
      "[150]\tvalidation-logloss:0.10836\n",
      "[151]\tvalidation-logloss:0.10835\n",
      "[152]\tvalidation-logloss:0.10832\n",
      "[153]\tvalidation-logloss:0.10830\n",
      "[154]\tvalidation-logloss:0.10827\n",
      "[155]\tvalidation-logloss:0.10825\n",
      "[156]\tvalidation-logloss:0.10822\n",
      "[157]\tvalidation-logloss:0.10817\n",
      "[158]\tvalidation-logloss:0.10815\n",
      "[159]\tvalidation-logloss:0.10813\n",
      "[160]\tvalidation-logloss:0.10811\n",
      "[161]\tvalidation-logloss:0.10809\n",
      "[162]\tvalidation-logloss:0.10809\n",
      "[163]\tvalidation-logloss:0.10806\n",
      "[164]\tvalidation-logloss:0.10805\n",
      "[165]\tvalidation-logloss:0.10803\n",
      "[166]\tvalidation-logloss:0.10800\n",
      "[167]\tvalidation-logloss:0.10797\n",
      "[168]\tvalidation-logloss:0.10795\n",
      "[169]\tvalidation-logloss:0.10792\n",
      "[170]\tvalidation-logloss:0.10790\n",
      "[171]\tvalidation-logloss:0.10785\n",
      "[172]\tvalidation-logloss:0.10781\n",
      "[173]\tvalidation-logloss:0.10778\n",
      "[174]\tvalidation-logloss:0.10775\n",
      "[175]\tvalidation-logloss:0.10774\n",
      "[176]\tvalidation-logloss:0.10773\n",
      "[177]\tvalidation-logloss:0.10771\n",
      "[178]\tvalidation-logloss:0.10770\n",
      "[179]\tvalidation-logloss:0.10768\n",
      "[180]\tvalidation-logloss:0.10765\n",
      "[181]\tvalidation-logloss:0.10763\n",
      "[182]\tvalidation-logloss:0.10762\n",
      "[183]\tvalidation-logloss:0.10760\n",
      "[184]\tvalidation-logloss:0.10759\n",
      "[185]\tvalidation-logloss:0.10757\n",
      "[186]\tvalidation-logloss:0.10756\n",
      "[187]\tvalidation-logloss:0.10753\n",
      "[188]\tvalidation-logloss:0.10753\n",
      "[189]\tvalidation-logloss:0.10752\n",
      "[190]\tvalidation-logloss:0.10749\n",
      "[191]\tvalidation-logloss:0.10748\n",
      "[192]\tvalidation-logloss:0.10747\n",
      "[193]\tvalidation-logloss:0.10745\n",
      "[194]\tvalidation-logloss:0.10744\n",
      "[195]\tvalidation-logloss:0.10740\n",
      "[196]\tvalidation-logloss:0.10738\n",
      "[197]\tvalidation-logloss:0.10737\n",
      "[198]\tvalidation-logloss:0.10735\n",
      "[199]\tvalidation-logloss:0.10732\n",
      "[200]\tvalidation-logloss:0.10731\n",
      "[201]\tvalidation-logloss:0.10729\n",
      "[202]\tvalidation-logloss:0.10728\n",
      "[203]\tvalidation-logloss:0.10726\n",
      "[204]\tvalidation-logloss:0.10725\n",
      "[205]\tvalidation-logloss:0.10723\n",
      "[206]\tvalidation-logloss:0.10722\n",
      "[207]\tvalidation-logloss:0.10721\n",
      "[208]\tvalidation-logloss:0.10720\n",
      "[209]\tvalidation-logloss:0.10719\n",
      "[210]\tvalidation-logloss:0.10716\n",
      "[211]\tvalidation-logloss:0.10715\n",
      "[212]\tvalidation-logloss:0.10714\n",
      "[213]\tvalidation-logloss:0.10713\n",
      "[214]\tvalidation-logloss:0.10711\n",
      "[215]\tvalidation-logloss:0.10710\n",
      "[216]\tvalidation-logloss:0.10709\n",
      "[217]\tvalidation-logloss:0.10707\n",
      "[218]\tvalidation-logloss:0.10707\n",
      "[219]\tvalidation-logloss:0.10706\n",
      "[220]\tvalidation-logloss:0.10705\n",
      "[221]\tvalidation-logloss:0.10703\n",
      "[222]\tvalidation-logloss:0.10703\n",
      "[223]\tvalidation-logloss:0.10702\n",
      "[224]\tvalidation-logloss:0.10701\n",
      "[225]\tvalidation-logloss:0.10700\n",
      "[226]\tvalidation-logloss:0.10700\n",
      "[227]\tvalidation-logloss:0.10700\n",
      "[228]\tvalidation-logloss:0.10698\n",
      "[229]\tvalidation-logloss:0.10696\n",
      "[230]\tvalidation-logloss:0.10695\n",
      "[231]\tvalidation-logloss:0.10694\n",
      "[232]\tvalidation-logloss:0.10692\n",
      "[233]\tvalidation-logloss:0.10691\n",
      "[234]\tvalidation-logloss:0.10690\n",
      "[235]\tvalidation-logloss:0.10688\n",
      "[236]\tvalidation-logloss:0.10688\n",
      "[237]\tvalidation-logloss:0.10686\n",
      "[238]\tvalidation-logloss:0.10686\n",
      "[239]\tvalidation-logloss:0.10685\n",
      "[240]\tvalidation-logloss:0.10684\n",
      "[241]\tvalidation-logloss:0.10683\n",
      "[242]\tvalidation-logloss:0.10682\n",
      "[243]\tvalidation-logloss:0.10681\n",
      "[244]\tvalidation-logloss:0.10679\n",
      "[245]\tvalidation-logloss:0.10679\n",
      "[246]\tvalidation-logloss:0.10678\n",
      "[247]\tvalidation-logloss:0.10677\n",
      "[248]\tvalidation-logloss:0.10676\n",
      "[249]\tvalidation-logloss:0.10675\n",
      "[250]\tvalidation-logloss:0.10675\n",
      "[251]\tvalidation-logloss:0.10674\n",
      "[252]\tvalidation-logloss:0.10673\n",
      "[253]\tvalidation-logloss:0.10672\n",
      "[254]\tvalidation-logloss:0.10671\n",
      "[255]\tvalidation-logloss:0.10670\n",
      "[256]\tvalidation-logloss:0.10670\n",
      "[257]\tvalidation-logloss:0.10669\n",
      "[258]\tvalidation-logloss:0.10669\n",
      "[259]\tvalidation-logloss:0.10668\n",
      "[260]\tvalidation-logloss:0.10667\n",
      "[261]\tvalidation-logloss:0.10667\n",
      "[262]\tvalidation-logloss:0.10666\n",
      "[263]\tvalidation-logloss:0.10666\n",
      "[264]\tvalidation-logloss:0.10665\n",
      "[265]\tvalidation-logloss:0.10664\n",
      "[266]\tvalidation-logloss:0.10664\n",
      "[267]\tvalidation-logloss:0.10663\n",
      "[268]\tvalidation-logloss:0.10661\n",
      "[269]\tvalidation-logloss:0.10661\n",
      "[270]\tvalidation-logloss:0.10661\n",
      "[271]\tvalidation-logloss:0.10660\n",
      "[272]\tvalidation-logloss:0.10660\n",
      "[273]\tvalidation-logloss:0.10659\n",
      "[274]\tvalidation-logloss:0.10658\n",
      "[275]\tvalidation-logloss:0.10658\n",
      "[276]\tvalidation-logloss:0.10657\n",
      "[277]\tvalidation-logloss:0.10657\n",
      "[278]\tvalidation-logloss:0.10656\n",
      "[279]\tvalidation-logloss:0.10655\n",
      "[280]\tvalidation-logloss:0.10654\n",
      "[281]\tvalidation-logloss:0.10654\n",
      "[282]\tvalidation-logloss:0.10653\n",
      "[283]\tvalidation-logloss:0.10653\n",
      "[284]\tvalidation-logloss:0.10652\n",
      "[285]\tvalidation-logloss:0.10651\n",
      "[286]\tvalidation-logloss:0.10651\n",
      "[287]\tvalidation-logloss:0.10650\n",
      "[288]\tvalidation-logloss:0.10649\n",
      "[289]\tvalidation-logloss:0.10649\n",
      "[290]\tvalidation-logloss:0.10648\n",
      "[291]\tvalidation-logloss:0.10648\n",
      "[292]\tvalidation-logloss:0.10647\n",
      "[293]\tvalidation-logloss:0.10647\n",
      "[294]\tvalidation-logloss:0.10646\n",
      "[295]\tvalidation-logloss:0.10646\n",
      "[296]\tvalidation-logloss:0.10644\n",
      "[297]\tvalidation-logloss:0.10643\n",
      "[298]\tvalidation-logloss:0.10643\n",
      "[299]\tvalidation-logloss:0.10642\n",
      "[300]\tvalidation-logloss:0.10642\n",
      "[301]\tvalidation-logloss:0.10641\n",
      "[302]\tvalidation-logloss:0.10641\n",
      "[303]\tvalidation-logloss:0.10640\n",
      "[304]\tvalidation-logloss:0.10640\n",
      "[305]\tvalidation-logloss:0.10639\n",
      "[306]\tvalidation-logloss:0.10638\n",
      "[307]\tvalidation-logloss:0.10638\n",
      "[308]\tvalidation-logloss:0.10637\n",
      "[309]\tvalidation-logloss:0.10636\n",
      "[310]\tvalidation-logloss:0.10636\n",
      "[311]\tvalidation-logloss:0.10635\n",
      "[312]\tvalidation-logloss:0.10632\n",
      "[313]\tvalidation-logloss:0.10632\n",
      "[314]\tvalidation-logloss:0.10631\n",
      "[315]\tvalidation-logloss:0.10631\n",
      "[316]\tvalidation-logloss:0.10631\n",
      "[317]\tvalidation-logloss:0.10630\n",
      "[318]\tvalidation-logloss:0.10630\n",
      "[319]\tvalidation-logloss:0.10630\n",
      "[320]\tvalidation-logloss:0.10630\n",
      "[321]\tvalidation-logloss:0.10629\n",
      "[322]\tvalidation-logloss:0.10629\n",
      "[323]\tvalidation-logloss:0.10629\n",
      "[324]\tvalidation-logloss:0.10628\n",
      "[325]\tvalidation-logloss:0.10628\n",
      "[326]\tvalidation-logloss:0.10627\n",
      "[327]\tvalidation-logloss:0.10627\n",
      "[328]\tvalidation-logloss:0.10624\n",
      "[329]\tvalidation-logloss:0.10623\n",
      "[330]\tvalidation-logloss:0.10622\n",
      "[331]\tvalidation-logloss:0.10621\n",
      "[332]\tvalidation-logloss:0.10621\n",
      "[333]\tvalidation-logloss:0.10621\n",
      "[334]\tvalidation-logloss:0.10620\n",
      "[335]\tvalidation-logloss:0.10620\n",
      "[336]\tvalidation-logloss:0.10620\n",
      "[337]\tvalidation-logloss:0.10619\n",
      "[338]\tvalidation-logloss:0.10619\n",
      "[339]\tvalidation-logloss:0.10619\n",
      "[340]\tvalidation-logloss:0.10617\n",
      "[341]\tvalidation-logloss:0.10617\n",
      "[342]\tvalidation-logloss:0.10617\n",
      "[343]\tvalidation-logloss:0.10617\n",
      "[344]\tvalidation-logloss:0.10616\n",
      "[345]\tvalidation-logloss:0.10616\n",
      "[346]\tvalidation-logloss:0.10615\n",
      "[347]\tvalidation-logloss:0.10615\n",
      "[348]\tvalidation-logloss:0.10614\n",
      "[349]\tvalidation-logloss:0.10613\n",
      "[350]\tvalidation-logloss:0.10612\n",
      "[351]\tvalidation-logloss:0.10612\n",
      "[352]\tvalidation-logloss:0.10612\n",
      "[353]\tvalidation-logloss:0.10611\n",
      "[354]\tvalidation-logloss:0.10611\n",
      "[355]\tvalidation-logloss:0.10611\n",
      "[356]\tvalidation-logloss:0.10610\n",
      "[357]\tvalidation-logloss:0.10610\n",
      "[358]\tvalidation-logloss:0.10609\n",
      "[359]\tvalidation-logloss:0.10608\n",
      "[360]\tvalidation-logloss:0.10608\n",
      "[361]\tvalidation-logloss:0.10607\n",
      "[362]\tvalidation-logloss:0.10607\n",
      "[363]\tvalidation-logloss:0.10607\n",
      "[364]\tvalidation-logloss:0.10607\n",
      "[365]\tvalidation-logloss:0.10606\n",
      "[366]\tvalidation-logloss:0.10606\n",
      "[367]\tvalidation-logloss:0.10606\n",
      "[368]\tvalidation-logloss:0.10606\n",
      "[369]\tvalidation-logloss:0.10606\n",
      "[370]\tvalidation-logloss:0.10605\n",
      "[371]\tvalidation-logloss:0.10603\n",
      "[372]\tvalidation-logloss:0.10603\n",
      "[373]\tvalidation-logloss:0.10603\n",
      "[374]\tvalidation-logloss:0.10602\n",
      "[375]\tvalidation-logloss:0.10602\n",
      "[376]\tvalidation-logloss:0.10601\n",
      "[377]\tvalidation-logloss:0.10601\n",
      "[378]\tvalidation-logloss:0.10601\n",
      "[379]\tvalidation-logloss:0.10601\n",
      "[380]\tvalidation-logloss:0.10600\n",
      "[381]\tvalidation-logloss:0.10600\n",
      "[382]\tvalidation-logloss:0.10600\n",
      "[383]\tvalidation-logloss:0.10599\n",
      "[384]\tvalidation-logloss:0.10598\n",
      "[385]\tvalidation-logloss:0.10598\n",
      "[386]\tvalidation-logloss:0.10597\n",
      "[387]\tvalidation-logloss:0.10597\n",
      "[388]\tvalidation-logloss:0.10596\n",
      "[389]\tvalidation-logloss:0.10596\n",
      "[390]\tvalidation-logloss:0.10596\n",
      "[391]\tvalidation-logloss:0.10595\n",
      "[392]\tvalidation-logloss:0.10595\n",
      "[393]\tvalidation-logloss:0.10595\n",
      "[394]\tvalidation-logloss:0.10595\n",
      "[395]\tvalidation-logloss:0.10595\n",
      "[396]\tvalidation-logloss:0.10594\n",
      "[397]\tvalidation-logloss:0.10594\n",
      "[398]\tvalidation-logloss:0.10594\n",
      "[399]\tvalidation-logloss:0.10594\n",
      "Accuracy: 0.95\n",
      "\n",
      "\n",
      "Normalized Confusion Matrix:\n",
      "[[0.97473453 0.02526547]\n",
      " [0.0974793  0.9025207 ]]\n",
      "Classification Report:\n",
      "              precision    recall  f1-score   support\n",
      "\n",
      "         0.0       0.96      0.97      0.97    233362\n",
      "         1.0       0.93      0.90      0.92     88388\n",
      "\n",
      "    accuracy                           0.95    321750\n",
      "   macro avg       0.95      0.94      0.94    321750\n",
      "weighted avg       0.95      0.95      0.95    321750\n",
      "\n",
      "\n",
      "\n"
     ]
    },
    {
     "data": {
      "image/png": "[encoded data removed]",
      "text/plain": [
       "<Figure size 800x400 with 1 Axes>"
      ]
     },
     "metadata": {},
     "output_type": "display_data"
    },
    {
     "name": "stdout",
     "output_type": "stream",
     "text": [
      "[0]\tvalidation-rmsle:4.16326\n",
      "[1]\tvalidation-rmsle:4.09779\n",
      "[2]\tvalidation-rmsle:4.03273\n",
      "[3]\tvalidation-rmsle:3.96810\n",
      "[4]\tvalidation-rmsle:3.90390\n",
      "[5]\tvalidation-rmsle:3.84012\n",
      "[6]\tvalidation-rmsle:3.77679\n",
      "[7]\tvalidation-rmsle:3.71389\n",
      "[8]\tvalidation-rmsle:3.65144\n",
      "[9]\tvalidation-rmsle:3.58945\n",
      "[10]\tvalidation-rmsle:3.52791\n",
      "[11]\tvalidation-rmsle:3.46683\n",
      "[12]\tvalidation-rmsle:3.40621\n",
      "[13]\tvalidation-rmsle:3.34607\n",
      "[14]\tvalidation-rmsle:3.28638\n",
      "[15]\tvalidation-rmsle:3.22718\n",
      "[16]\tvalidation-rmsle:3.16845\n",
      "[17]\tvalidation-rmsle:3.11022\n",
      "[18]\tvalidation-rmsle:3.05246\n",
      "[19]\tvalidation-rmsle:2.99521\n",
      "[20]\tvalidation-rmsle:2.93845\n",
      "[21]\tvalidation-rmsle:2.88219\n",
      "[22]\tvalidation-rmsle:2.82642\n",
      "[23]\tvalidation-rmsle:2.77115\n",
      "[24]\tvalidation-rmsle:2.71639\n",
      "[25]\tvalidation-rmsle:2.66213\n",
      "[26]\tvalidation-rmsle:2.60840\n",
      "[27]\tvalidation-rmsle:2.55520\n",
      "[28]\tvalidation-rmsle:2.50253\n",
      "[29]\tvalidation-rmsle:2.45039\n",
      "[30]\tvalidation-rmsle:2.39879\n",
      "[31]\tvalidation-rmsle:2.34774\n",
      "[32]\tvalidation-rmsle:2.29725\n",
      "[33]\tvalidation-rmsle:2.24732\n",
      "[34]\tvalidation-rmsle:2.19797\n",
      "[35]\tvalidation-rmsle:2.14920\n",
      "[36]\tvalidation-rmsle:2.10102\n",
      "[37]\tvalidation-rmsle:2.05344\n",
      "[38]\tvalidation-rmsle:2.00648\n",
      "[39]\tvalidation-rmsle:1.96015\n",
      "[40]\tvalidation-rmsle:1.91446\n",
      "[41]\tvalidation-rmsle:1.86940\n",
      "[42]\tvalidation-rmsle:1.82496\n",
      "[43]\tvalidation-rmsle:1.78120\n",
      "[44]\tvalidation-rmsle:1.73810\n",
      "[45]\tvalidation-rmsle:1.69572\n",
      "[46]\tvalidation-rmsle:1.65405\n",
      "[47]\tvalidation-rmsle:1.61311\n",
      "[48]\tvalidation-rmsle:1.57295\n",
      "[49]\tvalidation-rmsle:1.53356\n",
      "[50]\tvalidation-rmsle:1.49500\n",
      "[51]\tvalidation-rmsle:1.45727\n",
      "[52]\tvalidation-rmsle:1.42034\n",
      "[53]\tvalidation-rmsle:1.38423\n",
      "[54]\tvalidation-rmsle:1.34897\n",
      "[55]\tvalidation-rmsle:1.31457\n",
      "[56]\tvalidation-rmsle:1.28104\n",
      "[57]\tvalidation-rmsle:1.24842\n",
      "[58]\tvalidation-rmsle:1.21671\n",
      "[59]\tvalidation-rmsle:1.18596\n",
      "[60]\tvalidation-rmsle:1.15618\n",
      "[61]\tvalidation-rmsle:1.12742\n",
      "[62]\tvalidation-rmsle:1.09967\n",
      "[63]\tvalidation-rmsle:1.07296\n",
      "[64]\tvalidation-rmsle:1.04730\n",
      "[65]\tvalidation-rmsle:1.02271\n",
      "[66]\tvalidation-rmsle:0.99918\n",
      "[67]\tvalidation-rmsle:0.97667\n",
      "[68]\tvalidation-rmsle:0.95530\n",
      "[69]\tvalidation-rmsle:0.93492\n",
      "[70]\tvalidation-rmsle:0.91563\n",
      "[71]\tvalidation-rmsle:0.89729\n",
      "[72]\tvalidation-rmsle:0.87995\n",
      "[73]\tvalidation-rmsle:0.86359\n",
      "[74]\tvalidation-rmsle:0.84817\n",
      "[75]\tvalidation-rmsle:0.83356\n",
      "[76]\tvalidation-rmsle:0.81977\n",
      "[77]\tvalidation-rmsle:0.80672\n",
      "[78]\tvalidation-rmsle:0.79434\n",
      "[79]\tvalidation-rmsle:0.78271\n",
      "[80]\tvalidation-rmsle:0.77175\n",
      "[81]\tvalidation-rmsle:0.76141\n",
      "[82]\tvalidation-rmsle:0.75165\n",
      "[83]\tvalidation-rmsle:0.74236\n",
      "[84]\tvalidation-rmsle:0.73374\n",
      "[85]\tvalidation-rmsle:0.72558\n",
      "[86]\tvalidation-rmsle:0.71786\n",
      "[87]\tvalidation-rmsle:0.71060\n",
      "[88]\tvalidation-rmsle:0.70371\n",
      "[89]\tvalidation-rmsle:0.69714\n",
      "[90]\tvalidation-rmsle:0.69092\n",
      "[91]\tvalidation-rmsle:0.68507\n",
      "[92]\tvalidation-rmsle:0.67952\n",
      "[93]\tvalidation-rmsle:0.67435\n",
      "[94]\tvalidation-rmsle:0.66954\n",
      "[95]\tvalidation-rmsle:0.66500\n",
      "[96]\tvalidation-rmsle:0.66076\n",
      "[97]\tvalidation-rmsle:0.65681\n",
      "[98]\tvalidation-rmsle:0.65304\n",
      "[99]\tvalidation-rmsle:0.64947\n",
      "[100]\tvalidation-rmsle:0.64615\n",
      "[101]\tvalidation-rmsle:0.64312\n",
      "[102]\tvalidation-rmsle:0.64026\n",
      "[103]\tvalidation-rmsle:0.63759\n",
      "[104]\tvalidation-rmsle:0.63508\n",
      "[105]\tvalidation-rmsle:0.63272\n",
      "[106]\tvalidation-rmsle:0.63054\n",
      "[107]\tvalidation-rmsle:0.62849\n",
      "[108]\tvalidation-rmsle:0.62658\n",
      "[109]\tvalidation-rmsle:0.62479\n",
      "[110]\tvalidation-rmsle:0.62310\n",
      "[111]\tvalidation-rmsle:0.62154\n",
      "[112]\tvalidation-rmsle:0.62001\n",
      "[113]\tvalidation-rmsle:0.61854\n",
      "[114]\tvalidation-rmsle:0.61723\n",
      "[115]\tvalidation-rmsle:0.61600\n",
      "[116]\tvalidation-rmsle:0.61487\n",
      "[117]\tvalidation-rmsle:0.61373\n",
      "[118]\tvalidation-rmsle:0.61269\n",
      "[119]\tvalidation-rmsle:0.61150\n",
      "[120]\tvalidation-rmsle:0.61032\n",
      "[121]\tvalidation-rmsle:0.60933\n",
      "[122]\tvalidation-rmsle:0.60819\n",
      "[123]\tvalidation-rmsle:0.60727\n",
      "[124]\tvalidation-rmsle:0.60631\n",
      "[125]\tvalidation-rmsle:0.60545\n",
      "[126]\tvalidation-rmsle:0.60468\n",
      "[127]\tvalidation-rmsle:0.60384\n",
      "[128]\tvalidation-rmsle:0.60313\n",
      "[129]\tvalidation-rmsle:0.60240\n",
      "[130]\tvalidation-rmsle:0.60164\n",
      "[131]\tvalidation-rmsle:0.60101\n",
      "[132]\tvalidation-rmsle:0.60037\n",
      "[133]\tvalidation-rmsle:0.59972\n",
      "[134]\tvalidation-rmsle:0.59917\n",
      "[135]\tvalidation-rmsle:0.59865\n",
      "[136]\tvalidation-rmsle:0.59816\n",
      "[137]\tvalidation-rmsle:0.59770\n",
      "[138]\tvalidation-rmsle:0.59721\n",
      "[139]\tvalidation-rmsle:0.59679\n",
      "[140]\tvalidation-rmsle:0.59639\n",
      "[141]\tvalidation-rmsle:0.59602\n",
      "[142]\tvalidation-rmsle:0.59564\n",
      "[143]\tvalidation-rmsle:0.59530\n",
      "[144]\tvalidation-rmsle:0.59495\n",
      "[145]\tvalidation-rmsle:0.59464\n",
      "[146]\tvalidation-rmsle:0.59435\n",
      "[147]\tvalidation-rmsle:0.59406\n",
      "[148]\tvalidation-rmsle:0.59378\n",
      "[149]\tvalidation-rmsle:0.59351\n",
      "[150]\tvalidation-rmsle:0.59239\n",
      "[151]\tvalidation-rmsle:0.59137\n",
      "[152]\tvalidation-rmsle:0.59098\n",
      "[153]\tvalidation-rmsle:0.59003\n",
      "[154]\tvalidation-rmsle:0.58947\n",
      "[155]\tvalidation-rmsle:0.58878\n",
      "[156]\tvalidation-rmsle:0.58826\n",
      "[157]\tvalidation-rmsle:0.58787\n",
      "[158]\tvalidation-rmsle:0.58753\n",
      "[159]\tvalidation-rmsle:0.58721\n",
      "[160]\tvalidation-rmsle:0.58689\n",
      "[161]\tvalidation-rmsle:0.58660\n",
      "[162]\tvalidation-rmsle:0.58633\n",
      "[163]\tvalidation-rmsle:0.58606\n",
      "[164]\tvalidation-rmsle:0.58579\n",
      "[165]\tvalidation-rmsle:0.58553\n",
      "[166]\tvalidation-rmsle:0.58531\n",
      "[167]\tvalidation-rmsle:0.58502\n",
      "[168]\tvalidation-rmsle:0.58477\n",
      "[169]\tvalidation-rmsle:0.58451\n",
      "[170]\tvalidation-rmsle:0.58430\n",
      "[171]\tvalidation-rmsle:0.58406\n",
      "[172]\tvalidation-rmsle:0.58383\n",
      "[173]\tvalidation-rmsle:0.58361\n",
      "[174]\tvalidation-rmsle:0.58341\n",
      "[175]\tvalidation-rmsle:0.58320\n",
      "[176]\tvalidation-rmsle:0.58299\n",
      "[177]\tvalidation-rmsle:0.58277\n",
      "[178]\tvalidation-rmsle:0.58259\n",
      "[179]\tvalidation-rmsle:0.58239\n",
      "[180]\tvalidation-rmsle:0.58215\n",
      "[181]\tvalidation-rmsle:0.58195\n",
      "[182]\tvalidation-rmsle:0.58177\n",
      "[183]\tvalidation-rmsle:0.58153\n",
      "[184]\tvalidation-rmsle:0.58136\n",
      "[185]\tvalidation-rmsle:0.58119\n",
      "[186]\tvalidation-rmsle:0.58098\n",
      "[187]\tvalidation-rmsle:0.58080\n",
      "[188]\tvalidation-rmsle:0.58063\n",
      "[189]\tvalidation-rmsle:0.58040\n",
      "[190]\tvalidation-rmsle:0.58023\n",
      "[191]\tvalidation-rmsle:0.58006\n",
      "[192]\tvalidation-rmsle:0.57977\n",
      "[193]\tvalidation-rmsle:0.57961\n",
      "[194]\tvalidation-rmsle:0.57946\n",
      "[195]\tvalidation-rmsle:0.57925\n",
      "[196]\tvalidation-rmsle:0.57909\n",
      "[197]\tvalidation-rmsle:0.57893\n",
      "[198]\tvalidation-rmsle:0.57850\n",
      "[199]\tvalidation-rmsle:0.57836\n",
      "The RMSLE is: 0.57836\n",
      "finished training the full model\n",
      "CPU times: total: 3min 26s\n",
      "Wall time: 37.4 s\n"
     ]
    }
   ],
   "source": [
    "%time dataset, model_classification, model_regression, X_test,y_test = train_full_model(dataset)"
   ]
  },
  {
   "cell_type": "markdown",
   "id": "d279a77e-49ba-4ee5-ba1c-a71ba99cc951",
   "metadata": {},
   "source": [
    "### Top features for the classification"
   ]
  },
  {
   "cell_type": "code",
   "execution_count": 347,
   "id": "86cf5944-5d7f-4250-865b-9170126c86b2",
   "metadata": {},
   "outputs": [
    {
     "data": {
      "image/png": "[encoded data removed]",
      "text/plain": [
       "<Figure size 640x480 with 1 Axes>"
      ]
     },
     "metadata": {},
     "output_type": "display_data"
    }
   ],
   "source": [
    "print_feature_importance(model_classification,max_num_features=20)"
   ]
  },
  {
   "cell_type": "markdown",
   "id": "a6d4ad35-fcd7-4a85-b993-956fe0e7a3f7",
   "metadata": {},
   "source": [
    "### Top features for the regression"
   ]
  },
  {
   "cell_type": "code",
   "execution_count": 348,
   "id": "9e7636ae-202f-4775-8731-0a27b4cea72a",
   "metadata": {},
   "outputs": [
    {
     "data": {
      "image/png": "[encoded data removed]",
      "text/plain": [
       "<Figure size 640x480 with 1 Axes>"
      ]
     },
     "metadata": {},
     "output_type": "display_data"
    }
   ],
   "source": [
    "print_feature_importance(model_regression,max_num_features=20)"
   ]
  },
  {
   "cell_type": "markdown",
   "id": "97ccb3ec-6265-45ac-82cf-29c64a8ee46d",
   "metadata": {},
   "source": [
    "### Evaluation of combined model"
   ]
  },
  {
   "cell_type": "code",
   "execution_count": 349,
   "id": "32fffa97-2b05-4896-be2a-e7fde17160de",
   "metadata": {},
   "outputs": [
    {
     "name": "stdout",
     "output_type": "stream",
     "text": [
      "The RMSLE is: 0.54679\n",
      "CPU times: total: 4.33 s\n",
      "Wall time: 874 ms\n"
     ]
    }
   ],
   "source": [
    "%time  evaluate_full_model(dataset, model_classification, model_regression, X_test,y_test,col_try)"
   ]
  },
  {
   "cell_type": "markdown",
   "id": "6fd013b6-0fdf-4fbd-9824-b546c59f7783",
   "metadata": {},
   "source": [
    "##### To be noted that the moving average on 7 days is a pretty effective model too:"
   ]
  },
  {
   "cell_type": "code",
   "execution_count": 350,
   "id": "7ebfae06-bd4e-46de-97b7-6e5b09a19d63",
   "metadata": {},
   "outputs": [
    {
     "name": "stdout",
     "output_type": "stream",
     "text": [
      "The RMSLE is: 0.58296\n"
     ]
    }
   ],
   "source": [
    "compute_rmsle(dataset['MA_7_days'], dataset['target'])"
   ]
  },
  {
   "cell_type": "markdown",
   "id": "7b56e801-04a9-46e7-a760-623f3375d9f9",
   "metadata": {},
   "source": [
    "## END"
   ]
  },
  {
   "cell_type": "code",
   "execution_count": 366,
   "id": "246e0231-cb08-4f0c-b8d8-5ad7cd6eb21c",
   "metadata": {},
   "outputs": [
    {
     "name": "stdout",
     "output_type": "stream",
     "text": [
      "0.27428811188811186\n",
      "0.040424242424242425\n"
     ]
    }
   ],
   "source": [
    "print(len(dataset[dataset['target']==0]) / len(dataset))\n",
    "print( len(dataset[ (dataset['target']==1)]) / len(dataset) )"
   ]
  },
  {
   "cell_type": "code",
   "execution_count": 361,
   "id": "776b4989-0cda-48de-8389-0e688e9bd239",
   "metadata": {},
   "outputs": [
    {
     "data": {
      "text/plain": [
       "<Axes: >"
      ]
     },
     "execution_count": 361,
     "metadata": {},
     "output_type": "execute_result"
    },
    {
     "data": {
      "image/png": "[encoded data removed]",
      "text/plain": [
       "<Figure size 640x480 with 1 Axes>"
      ]
     },
     "metadata": {},
     "output_type": "display_data"
    }
   ],
   "source": [
    "np.log(short[short['target']<2000]['target']).hist(bins = 100)"
   ]
  },
  {
   "cell_type": "code",
   "execution_count": 353,
   "id": "893efd50-2ae8-4f92-9848-b2979421f52e",
   "metadata": {},
   "outputs": [
    {
     "data": {
      "text/plain": [
       "<Axes: >"
      ]
     },
     "execution_count": 353,
     "metadata": {},
     "output_type": "execute_result"
    },
    {
     "data": {
      "image/png": "[encoded data removed]",
      "text/plain": [
       "<Figure size 640x480 with 1 Axes>"
      ]
     },
     "metadata": {},
     "output_type": "display_data"
    }
   ],
   "source": [
    "np.log1p(dataset['target']).plot()"
   ]
  },
  {
   "cell_type": "code",
   "execution_count": null,
   "id": "c04f57d3-264b-4d8b-9fef-eed6d2cbe86a",
   "metadata": {},
   "outputs": [],
   "source": []
  }
 ],
 "metadata": {
  "kernelspec": {
   "display_name": "Python 3 (ipykernel)",
   "language": "python",
   "name": "python3"
  },
  "language_info": {
   "codemirror_mode": {
    "name": "ipython",
    "version": 3
   },
   "file_extension": ".py",
   "mimetype": "text/x-python",
   "name": "python",
   "nbconvert_exporter": "python",
   "pygments_lexer": "ipython3",
   "version": "3.11.5"
  }
 },
 "nbformat": 4,
 "nbformat_minor": 5
}
